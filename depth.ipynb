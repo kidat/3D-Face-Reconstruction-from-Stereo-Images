{
 "cells": [
  {
   "cell_type": "markdown",
   "id": "7be18271",
   "metadata": {},
   "source": [
    "### Ground Truth Depth Visualization"
   ]
  },
  {
   "cell_type": "code",
   "execution_count": 1,
   "id": "e44e8d4b",
   "metadata": {},
   "outputs": [
    {
     "name": "stdout",
     "output_type": "stream",
     "text": [
      "Jupyter environment detected. Enabling Open3D WebVisualizer.\n",
      "[Open3D INFO] WebRTC GUI backend enabled.\n",
      "[Open3D INFO] WebRTCWindowSystem: HTTP handshake server disabled.\n",
      "Camera_Front: 773210 points\n",
      "Saved contrast-enhanced ground truth point cloud to DepthMap.ply\n"
     ]
    }
   ],
   "source": [
    "import os\n",
    "import json\n",
    "import numpy as np\n",
    "import pyexr\n",
    "import open3d as o3d\n",
    "import matplotlib.pyplot as plt\n",
    "\n",
    "def load_exr_depth(path):\n",
    "    try:\n",
    "        exr = pyexr.read(path)\n",
    "        if exr.ndim == 3:\n",
    "            return exr[:, :, 0]\n",
    "        return exr\n",
    "    except Exception as e:\n",
    "        print(f\"Failed to load {path}: {e}\")\n",
    "        return None\n",
    "\n",
    "def backproject_depth_map(depth_map, K, cam_to_world):\n",
    "    h, w = depth_map.shape\n",
    "    u, v = np.meshgrid(np.arange(w), np.arange(h))\n",
    "    valid = (depth_map > 0) & (depth_map < 100) & np.isfinite(depth_map)\n",
    "    if not np.any(valid):\n",
    "        return np.empty((0, 3)), np.empty((0,))\n",
    "\n",
    "    u_valid = u[valid]\n",
    "    v_valid = v[valid]\n",
    "    z = depth_map[valid]\n",
    "    x = (u_valid - K[0, 2]) * z / K[0, 0]\n",
    "    y = (v_valid - K[1, 2]) * z / K[1, 1]\n",
    "\n",
    "    points_cam = np.vstack([x, y, z]).T\n",
    "    points_cam_h = np.hstack([points_cam, np.ones((points_cam.shape[0], 1))])\n",
    "    points_world = (cam_to_world @ points_cam_h.T).T[:, :3]\n",
    "    return points_world, z\n",
    "\n",
    "# Load camera parameters\n",
    "with open(\"0/camera_params.json\", \"r\") as f:\n",
    "    camera_params = json.load(f)\n",
    "\n",
    "cam = camera_params[\"Camera_Front\"]\n",
    "depth_path = os.path.join(\"0\", cam[\"depth_path\"])\n",
    "K = np.array(cam[\"intrinsic\"])\n",
    "extrinsic = np.array(cam[\"extrinsic\"])\n",
    "cam_to_world = np.linalg.inv(extrinsic)\n",
    "\n",
    "depth_map = load_exr_depth(depth_path)\n",
    "if depth_map is not None:\n",
    "    if depth_map.ndim == 3:\n",
    "        depth_map = depth_map[:, :, 0]\n",
    "\n",
    "    gt_points, depths = backproject_depth_map(depth_map, K, cam_to_world)\n",
    "\n",
    "    if gt_points.shape[0] > 0:\n",
    "        print(f\"Camera_Front: {len(gt_points)} points\")\n",
    "\n",
    "        # Normalize and enhance small differences across the full range\n",
    "        norm_depths = (depths - depths.min()) / (depths.max() - depths.min() + 1e-8)\n",
    "        contrast_depth = np.log1p(norm_depths * 9) / np.log1p(9)\n",
    "        enhanced_depth = 1.0 - contrast_depth  # Near = bright\n",
    "\n",
    "        # Use turbo colormap, same direction\n",
    "        colormap = plt.get_cmap(\"turbo\")\n",
    "        colors = colormap(enhanced_depth)[:, :3]\n",
    "\n",
    "        pcd = o3d.geometry.PointCloud()\n",
    "        pcd.points = o3d.utility.Vector3dVector(gt_points)\n",
    "        pcd.colors = o3d.utility.Vector3dVector(colors)\n",
    "        o3d.io.write_point_cloud(\"DepthMap.ply\", pcd)\n",
    "\n",
    "        print(\"Saved contrast-enhanced ground truth point cloud to DepthMap.ply\")\n",
    "    else:\n",
    "        print(\"No valid points from Camera_Front\")\n",
    "else:\n",
    "    print(\"Failed to load depth map for Camera_Front\")\n"
   ]
  }
 ],
 "metadata": {
  "kernelspec": {
   "display_name": "vface",
   "language": "python",
   "name": "python3"
  },
  "language_info": {
   "codemirror_mode": {
    "name": "ipython",
    "version": 3
   },
   "file_extension": ".py",
   "mimetype": "text/x-python",
   "name": "python",
   "nbconvert_exporter": "python",
   "pygments_lexer": "ipython3",
   "version": "3.11.9"
  }
 },
 "nbformat": 4,
 "nbformat_minor": 5
}
